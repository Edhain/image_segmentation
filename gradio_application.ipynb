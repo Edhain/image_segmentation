{
 "cells": [
  {
   "cell_type": "code",
   "execution_count": 30,
   "id": "b6c74dd9-d43b-4dd4-aadf-132e6a1eba90",
   "metadata": {},
   "outputs": [],
   "source": [
    "import numpy as np\n",
    "import gradio as gr\n",
    "import tensorflow as tf\n",
    "from tensorflow.keras.models import model_from_json\n",
    "from tensorflow.keras.preprocessing.image import array_to_img\n",
    "from PIL import Image"
   ]
  },
  {
   "cell_type": "code",
   "execution_count": 4,
   "id": "b3ab99b4-2723-4e2b-a092-cd2f031d8c11",
   "metadata": {},
   "outputs": [],
   "source": [
    "with open('model_json.json', 'r') as f:\n",
    "    model_json = f.read()"
   ]
  },
  {
   "cell_type": "code",
   "execution_count": 5,
   "id": "6c83f27f-d944-46ca-b5fd-94293504e18f",
   "metadata": {},
   "outputs": [],
   "source": [
    "model = model_from_json(model_json)"
   ]
  },
  {
   "cell_type": "code",
   "execution_count": 6,
   "id": "0f17bc96-d961-499e-8812-901f07fc8266",
   "metadata": {},
   "outputs": [],
   "source": [
    "model.load_weights('model.h5')"
   ]
  },
  {
   "cell_type": "code",
   "execution_count": 29,
   "id": "4abbd0f9-f345-4058-8fa0-0e308247b6c0",
   "metadata": {},
   "outputs": [
    {
     "name": "stdout",
     "output_type": "stream",
     "text": [
      "Model: \"model_1\"\n",
      "__________________________________________________________________________________________________\n",
      " Layer (type)                   Output Shape         Param #     Connected to                     \n",
      "==================================================================================================\n",
      " input_2 (InputLayer)           [(None, 128, 128, 3  0           []                               \n",
      "                                )]                                                                \n",
      "                                                                                                  \n",
      " model (Functional)             [(None, 64, 64, 96)  1841984     ['input_2[0][0]']                \n",
      "                                , (None, 32, 32, 14                                               \n",
      "                                4),                                                               \n",
      "                                 (None, 16, 16, 192                                               \n",
      "                                ),                                                                \n",
      "                                 (None, 8, 8, 576),                                               \n",
      "                                 (None, 4, 4, 320)]                                               \n",
      "                                                                                                  \n",
      " sequential (Sequential)        (None, 8, 8, 512)    1476608     ['model[0][4]']                  \n",
      "                                                                                                  \n",
      " concatenate (Concatenate)      (None, 8, 8, 1088)   0           ['sequential[0][0]',             \n",
      "                                                                  'model[0][3]']                  \n",
      "                                                                                                  \n",
      " sequential_1 (Sequential)      (None, 16, 16, 256)  2507776     ['concatenate[0][0]']            \n",
      "                                                                                                  \n",
      " concatenate_1 (Concatenate)    (None, 16, 16, 448)  0           ['sequential_1[0][0]',           \n",
      "                                                                  'model[0][2]']                  \n",
      "                                                                                                  \n",
      " sequential_2 (Sequential)      (None, 32, 32, 128)  516608      ['concatenate_1[0][0]']          \n",
      "                                                                                                  \n",
      " concatenate_2 (Concatenate)    (None, 32, 32, 272)  0           ['sequential_2[0][0]',           \n",
      "                                                                  'model[0][1]']                  \n",
      "                                                                                                  \n",
      " sequential_3 (Sequential)      (None, 64, 64, 64)   156928      ['concatenate_2[0][0]']          \n",
      "                                                                                                  \n",
      " concatenate_3 (Concatenate)    (None, 64, 64, 160)  0           ['sequential_3[0][0]',           \n",
      "                                                                  'model[0][0]']                  \n",
      "                                                                                                  \n",
      " conv2d_transpose_4 (Conv2DTran  (None, 128, 128, 3)  4323       ['concatenate_3[0][0]']          \n",
      " spose)                                                                                           \n",
      "                                                                                                  \n",
      "==================================================================================================\n",
      "Total params: 6,504,227\n",
      "Trainable params: 4,660,323\n",
      "Non-trainable params: 1,843,904\n",
      "__________________________________________________________________________________________________\n"
     ]
    }
   ],
   "source": [
    "model.summary()"
   ]
  },
  {
   "cell_type": "code",
   "execution_count": 7,
   "id": "e99be0d1-64b9-4e27-85e1-673a7c00f6c6",
   "metadata": {},
   "outputs": [],
   "source": [
    "def create_mask(pred_mask):\n",
    "    pred_mask = tf.argmax(pred_mask, axis=-1)\n",
    "    pred_mask = pred_mask[..., tf.newaxis]\n",
    "    return pred_mask[0]"
   ]
  },
  {
   "cell_type": "code",
   "execution_count": 8,
   "id": "c7262cfa-9821-4141-aff9-574f2449b83a",
   "metadata": {},
   "outputs": [],
   "source": [
    "def preprocess(input_image):\n",
    "    input_image = tf.image.resize(input_image, (128, 128))\n",
    "    input_image = tf.cast(input_image, tf.float32) / 255.0\n",
    "    return input_image"
   ]
  },
  {
   "cell_type": "code",
   "execution_count": 31,
   "id": "41205cf4-6a83-42c0-b2bc-e2c24dfacf56",
   "metadata": {},
   "outputs": [],
   "source": [
    "def driver_fn(img):\n",
    "    img = preprocess(img)\n",
    "    pred_mask = model.predict(img[tf.newaxis, ...])\n",
    "    pred_mask = create_mask(pred_mask)\n",
    "    pred_mask_image = array_to_img(pred_mask)\n",
    "    return pred_mask_image"
   ]
  },
  {
   "cell_type": "code",
   "execution_count": 32,
   "id": "52ae5d42-6299-4543-b7bb-1e331cbfaecf",
   "metadata": {},
   "outputs": [
    {
     "name": "stdout",
     "output_type": "stream",
     "text": [
      "Running on local URL:  http://127.0.0.1:7869\n",
      "\n",
      "To create a public link, set `share=True` in `launch()`.\n"
     ]
    },
    {
     "data": {
      "text/html": [
       "<div><iframe src=\"http://127.0.0.1:7869/\" width=\"100%\" height=\"500\" allow=\"autoplay; camera; microphone; clipboard-read; clipboard-write;\" frameborder=\"0\" allowfullscreen></iframe></div>"
      ],
      "text/plain": [
       "<IPython.core.display.HTML object>"
      ]
     },
     "metadata": {},
     "output_type": "display_data"
    },
    {
     "data": {
      "text/plain": []
     },
     "execution_count": 32,
     "metadata": {},
     "output_type": "execute_result"
    },
    {
     "name": "stdout",
     "output_type": "stream",
     "text": [
      "1/1 [==============================] - 0s 20ms/step\n"
     ]
    },
    {
     "name": "stderr",
     "output_type": "stream",
     "text": [
      "Traceback (most recent call last):\n",
      "  File \"C:\\Users\\adity\\miniconda3\\envs\\tfgpu\\lib\\site-packages\\gradio\\routes.py\", line 517, in predict\n",
      "    output = await route_utils.call_process_api(\n",
      "  File \"C:\\Users\\adity\\miniconda3\\envs\\tfgpu\\lib\\site-packages\\gradio\\route_utils.py\", line 216, in call_process_api\n",
      "    output = await app.get_blocks().process_api(\n",
      "  File \"C:\\Users\\adity\\miniconda3\\envs\\tfgpu\\lib\\site-packages\\gradio\\blocks.py\", line 1555, in process_api\n",
      "    result = await self.call_function(\n",
      "  File \"C:\\Users\\adity\\miniconda3\\envs\\tfgpu\\lib\\site-packages\\gradio\\blocks.py\", line 1193, in call_function\n",
      "    prediction = await anyio.to_thread.run_sync(\n",
      "  File \"C:\\Users\\adity\\miniconda3\\envs\\tfgpu\\lib\\site-packages\\anyio\\to_thread.py\", line 33, in run_sync\n",
      "    return await get_asynclib().run_sync_in_worker_thread(\n",
      "  File \"C:\\Users\\adity\\miniconda3\\envs\\tfgpu\\lib\\site-packages\\anyio\\_backends\\_asyncio.py\", line 877, in run_sync_in_worker_thread\n",
      "    return await future\n",
      "  File \"C:\\Users\\adity\\miniconda3\\envs\\tfgpu\\lib\\site-packages\\anyio\\_backends\\_asyncio.py\", line 807, in run\n",
      "    result = context.run(func, *args)\n",
      "  File \"C:\\Users\\adity\\miniconda3\\envs\\tfgpu\\lib\\site-packages\\gradio\\utils.py\", line 654, in wrapper\n",
      "    response = f(*args, **kwargs)\n",
      "  File \"C:\\Users\\adity\\AppData\\Local\\Temp\\ipykernel_8316\\3056680960.py\", line 2, in driver_fn\n",
      "    img = preprocess(img)\n",
      "  File \"C:\\Users\\adity\\AppData\\Local\\Temp\\ipykernel_8316\\1311403689.py\", line 2, in preprocess\n",
      "    input_image = tf.image.resize(input_image, (128, 128))\n",
      "  File \"C:\\Users\\adity\\miniconda3\\envs\\tfgpu\\lib\\site-packages\\tensorflow\\python\\util\\traceback_utils.py\", line 153, in error_handler\n",
      "    raise e.with_traceback(filtered_tb) from None\n",
      "  File \"C:\\Users\\adity\\miniconda3\\envs\\tfgpu\\lib\\site-packages\\tensorflow\\python\\framework\\constant_op.py\", line 102, in convert_to_eager_tensor\n",
      "    return ops.EagerTensor(value, ctx.device_name, dtype)\n",
      "ValueError: Attempt to convert a value (None) with an unsupported type (<class 'NoneType'>) to a Tensor.\n",
      "C:\\Users\\adity\\miniconda3\\envs\\tfgpu\\lib\\site-packages\\gradio\\components\\button.py:89: UserWarning: Using the update method is deprecated. Simply return a new object instead, e.g. `return gr.Button(...)` instead of `return gr.Button.update(...)`.\n",
      "  warnings.warn(\n"
     ]
    },
    {
     "name": "stdout",
     "output_type": "stream",
     "text": [
      "1/1 [==============================] - 0s 18ms/step\n"
     ]
    },
    {
     "name": "stderr",
     "output_type": "stream",
     "text": [
      "C:\\Users\\adity\\miniconda3\\envs\\tfgpu\\lib\\site-packages\\gradio\\components\\button.py:89: UserWarning: Using the update method is deprecated. Simply return a new object instead, e.g. `return gr.Button(...)` instead of `return gr.Button.update(...)`.\n",
      "  warnings.warn(\n",
      "Traceback (most recent call last):\n",
      "  File \"C:\\Users\\adity\\miniconda3\\envs\\tfgpu\\lib\\site-packages\\gradio\\routes.py\", line 517, in predict\n",
      "    output = await route_utils.call_process_api(\n",
      "  File \"C:\\Users\\adity\\miniconda3\\envs\\tfgpu\\lib\\site-packages\\gradio\\route_utils.py\", line 216, in call_process_api\n",
      "    output = await app.get_blocks().process_api(\n",
      "  File \"C:\\Users\\adity\\miniconda3\\envs\\tfgpu\\lib\\site-packages\\gradio\\blocks.py\", line 1555, in process_api\n",
      "    result = await self.call_function(\n",
      "  File \"C:\\Users\\adity\\miniconda3\\envs\\tfgpu\\lib\\site-packages\\gradio\\blocks.py\", line 1193, in call_function\n",
      "    prediction = await anyio.to_thread.run_sync(\n",
      "  File \"C:\\Users\\adity\\miniconda3\\envs\\tfgpu\\lib\\site-packages\\anyio\\to_thread.py\", line 33, in run_sync\n",
      "    return await get_asynclib().run_sync_in_worker_thread(\n",
      "  File \"C:\\Users\\adity\\miniconda3\\envs\\tfgpu\\lib\\site-packages\\anyio\\_backends\\_asyncio.py\", line 877, in run_sync_in_worker_thread\n",
      "    return await future\n",
      "  File \"C:\\Users\\adity\\miniconda3\\envs\\tfgpu\\lib\\site-packages\\anyio\\_backends\\_asyncio.py\", line 807, in run\n",
      "    result = context.run(func, *args)\n",
      "  File \"C:\\Users\\adity\\miniconda3\\envs\\tfgpu\\lib\\site-packages\\gradio\\utils.py\", line 654, in wrapper\n",
      "    response = f(*args, **kwargs)\n",
      "  File \"C:\\Users\\adity\\AppData\\Local\\Temp\\ipykernel_8316\\3056680960.py\", line 2, in driver_fn\n",
      "    img = preprocess(img)\n",
      "  File \"C:\\Users\\adity\\AppData\\Local\\Temp\\ipykernel_8316\\1311403689.py\", line 2, in preprocess\n",
      "    input_image = tf.image.resize(input_image, (128, 128))\n",
      "  File \"C:\\Users\\adity\\miniconda3\\envs\\tfgpu\\lib\\site-packages\\tensorflow\\python\\util\\traceback_utils.py\", line 153, in error_handler\n",
      "    raise e.with_traceback(filtered_tb) from None\n",
      "  File \"C:\\Users\\adity\\miniconda3\\envs\\tfgpu\\lib\\site-packages\\tensorflow\\python\\framework\\constant_op.py\", line 102, in convert_to_eager_tensor\n",
      "    return ops.EagerTensor(value, ctx.device_name, dtype)\n",
      "ValueError: Attempt to convert a value (None) with an unsupported type (<class 'NoneType'>) to a Tensor.\n"
     ]
    }
   ],
   "source": [
    "ui = gr.Interface(driver_fn, inputs = 'image', outputs = 'image', live = True)\n",
    "ui.launch()"
   ]
  },
  {
   "cell_type": "code",
   "execution_count": null,
   "id": "a1b18a41-f912-4529-87f5-67b0cf5e5830",
   "metadata": {},
   "outputs": [],
   "source": []
  }
 ],
 "metadata": {
  "kernelspec": {
   "display_name": "'TFGPU'",
   "language": "python",
   "name": "tfgpu"
  },
  "language_info": {
   "codemirror_mode": {
    "name": "ipython",
    "version": 3
   },
   "file_extension": ".py",
   "mimetype": "text/x-python",
   "name": "python",
   "nbconvert_exporter": "python",
   "pygments_lexer": "ipython3",
   "version": "3.10.0"
  }
 },
 "nbformat": 4,
 "nbformat_minor": 5
}
